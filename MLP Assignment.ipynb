{
 "cells": [
  {
   "cell_type": "code",
   "execution_count": 1,
   "id": "c5588bbc-3fef-49ee-a700-48f306c89bb7",
   "metadata": {},
   "outputs": [],
   "source": [
    "# Step 1: Import libraries\n",
    "import pandas as pd\n",
    "import numpy as np\n",
    "import matplotlib.pyplot as plt\n",
    "import seaborn as sns"
   ]
  },
  {
   "cell_type": "code",
   "execution_count": 2,
   "id": "9c6a43d9-5ba7-4ee4-b137-be42cc03fd06",
   "metadata": {},
   "outputs": [],
   "source": [
    "from sklearn.model_selection import train_test_split\n",
    "from sklearn.linear_model import LinearRegression, Ridge, Lasso\n",
    "from sklearn.metrics import mean_squared_error, r2_score\n",
    "from sklearn.preprocessing import StandardScaler\n",
    "from sklearn.preprocessing import OneHotEncoder"
   ]
  },
  {
   "cell_type": "code",
   "execution_count": 3,
   "id": "4703cb7a-4288-4d90-a503-85951dd8fb21",
   "metadata": {},
   "outputs": [],
   "source": [
    "df = pd.read_csv(\"ToyotaCorolla - MLR.csv\")"
   ]
  },
  {
   "cell_type": "code",
   "execution_count": 4,
   "id": "8f4de226-0470-4891-8a76-8d3a22938c58",
   "metadata": {},
   "outputs": [],
   "source": [
    "df.rename(columns={'Age_08_04': 'Age', 'cc': 'CC', 'Doors': 'Doors', 'Fuel_Type': 'FuelType'}, inplace=True)"
   ]
  },
  {
   "cell_type": "code",
   "execution_count": 5,
   "id": "4e5f6153-7bd5-4ce7-a4c2-a8bfd887e329",
   "metadata": {},
   "outputs": [
    {
     "name": "stdout",
     "output_type": "stream",
     "text": [
      "Summary Statistics:\n",
      "               Price          Age             KM           HP    Automatic  \\\n",
      "count   1436.000000  1436.000000    1436.000000  1436.000000  1436.000000   \n",
      "mean   10730.824513    55.947075   68533.259749   101.502089     0.055710   \n",
      "std     3626.964585    18.599988   37506.448872    14.981080     0.229441   \n",
      "min     4350.000000     1.000000       1.000000    69.000000     0.000000   \n",
      "25%     8450.000000    44.000000   43000.000000    90.000000     0.000000   \n",
      "50%     9900.000000    61.000000   63389.500000   110.000000     0.000000   \n",
      "75%    11950.000000    70.000000   87020.750000   110.000000     0.000000   \n",
      "max    32500.000000    80.000000  243000.000000   192.000000     1.000000   \n",
      "\n",
      "                CC        Doors  Cylinders        Gears      Weight  \n",
      "count   1436.00000  1436.000000     1436.0  1436.000000  1436.00000  \n",
      "mean    1576.85585     4.033426        4.0     5.026462  1072.45961  \n",
      "std      424.38677     0.952677        0.0     0.188510    52.64112  \n",
      "min     1300.00000     2.000000        4.0     3.000000  1000.00000  \n",
      "25%     1400.00000     3.000000        4.0     5.000000  1040.00000  \n",
      "50%     1600.00000     4.000000        4.0     5.000000  1070.00000  \n",
      "75%     1600.00000     5.000000        4.0     5.000000  1085.00000  \n",
      "max    16000.00000     5.000000        4.0     6.000000  1615.00000  \n",
      "\n",
      "Null Values:\n",
      " Price        0\n",
      "Age          0\n",
      "KM           0\n",
      "FuelType     0\n",
      "HP           0\n",
      "Automatic    0\n",
      "CC           0\n",
      "Doors        0\n",
      "Cylinders    0\n",
      "Gears        0\n",
      "Weight       0\n",
      "dtype: int64\n",
      "\n",
      "Fuel Type Distribution:\n",
      " FuelType\n",
      "Petrol    1264\n",
      "Diesel     155\n",
      "CNG         17\n",
      "Name: count, dtype: int64\n"
     ]
    }
   ],
   "source": [
    "# Step 4: EDA\n",
    "print(\"Summary Statistics:\\n\", df.describe())\n",
    "print(\"\\nNull Values:\\n\", df.isnull().sum())\n",
    "print(\"\\nFuel Type Distribution:\\n\", df['FuelType'].value_counts())"
   ]
  },
  {
   "cell_type": "code",
   "execution_count": 6,
   "id": "6114f57f-12c0-4607-addc-a713a03b1214",
   "metadata": {},
   "outputs": [],
   "source": [
    "df.drop(columns=['Cylinders'], inplace=True)"
   ]
  },
  {
   "cell_type": "code",
   "execution_count": 7,
   "id": "5ede3b13-f7a9-47cc-bc11-12c5ce1a3098",
   "metadata": {},
   "outputs": [],
   "source": [
    "df = pd.get_dummies(df, columns=['FuelType'], drop_first=True)"
   ]
  },
  {
   "cell_type": "code",
   "execution_count": 8,
   "id": "8a751fdb-b935-4ceb-92a3-1515cce7d3a6",
   "metadata": {},
   "outputs": [],
   "source": [
    "df['CC'] = df['CC'].clip(upper=2000)"
   ]
  },
  {
   "cell_type": "code",
   "execution_count": 9,
   "id": "d46b9f85-ee18-41f0-ac8c-6b3a91cfd2a3",
   "metadata": {},
   "outputs": [],
   "source": [
    "X = df.drop(columns=['Price'])\n",
    "y = df['Price']\n"
   ]
  },
  {
   "cell_type": "code",
   "execution_count": 10,
   "id": "8f848b4b-4d67-4552-bf5e-70c207a8ee63",
   "metadata": {},
   "outputs": [],
   "source": [
    "scaler = StandardScaler()\n",
    "X_scaled = scaler.fit_transform(X)"
   ]
  },
  {
   "cell_type": "code",
   "execution_count": 11,
   "id": "9fc68cdc-6169-4633-8ad7-39987da38a87",
   "metadata": {},
   "outputs": [],
   "source": [
    "X_train, X_test, y_train, y_test = train_test_split(X_scaled, y, test_size=0.2, random_state=42)"
   ]
  },
  {
   "cell_type": "code",
   "execution_count": 12,
   "id": "05228837-45c3-4c32-8322-2dfe6a26c28d",
   "metadata": {},
   "outputs": [],
   "source": [
    "lr1 = LinearRegression()\n",
    "lr1.fit(X_train, y_train)\n",
    "y_pred1 = lr1.predict(X_test)"
   ]
  },
  {
   "cell_type": "code",
   "execution_count": 13,
   "id": "a7a71f7f-bb76-45d8-b098-39914af22573",
   "metadata": {},
   "outputs": [],
   "source": [
    "corr = pd.DataFrame(X,columns=df.drop(columns='Price').columns).corrwith(y).abs().sort_values(ascending=False)\n",
    "top5_features = corr.head(5).index.tolist()"
   ]
  },
  {
   "cell_type": "code",
   "execution_count": 14,
   "id": "969fb2d1-fc2b-49d3-89b9-e2d214037e7f",
   "metadata": {},
   "outputs": [],
   "source": [
    "X_train2 = X_train[:, [df.columns.get_loc(col) - 1 for col in top5_features]]\n",
    "X_test2 = X_test[:, [df.columns.get_loc(col) - 1 for col in top5_features]]"
   ]
  },
  {
   "cell_type": "code",
   "execution_count": 15,
   "id": "d5b7595c-0000-487f-a6ed-2939335e2c83",
   "metadata": {},
   "outputs": [],
   "source": [
    "lr2 = LinearRegression()\n",
    "lr2.fit(X_train2, y_train)\n",
    "y_pred2 = lr2.predict(X_test2)"
   ]
  },
  {
   "cell_type": "code",
   "execution_count": 16,
   "id": "159f395a-fc30-46d0-ab88-5c890a95d8b2",
   "metadata": {},
   "outputs": [],
   "source": [
    "# Model 3: Only numerical features, exclude fuel types\n",
    "numerical_cols = ['Age', 'KM', 'HP', 'CC', 'Weight', 'Doors', 'Gears', 'Automatic']\n",
    "X3 = df[numerical_cols]\n",
    "X3_scaled = scaler.fit_transform(X3)\n",
    "X_train3, X_test3, y_train3, y_test3 = train_test_split(X3_scaled, y, test_size=0.2, random_state=42)"
   ]
  },
  {
   "cell_type": "code",
   "execution_count": 17,
   "id": "c5aad2be-bb69-4258-8284-49fa8c4b1f4c",
   "metadata": {},
   "outputs": [],
   "source": [
    "lr3 = LinearRegression()\n",
    "lr3.fit(X_train3, y_train3)\n",
    "y_pred3 = lr3.predict(X_test3)"
   ]
  },
  {
   "cell_type": "code",
   "execution_count": 18,
   "id": "f9df16fb-5574-442f-864a-6e29d2a9e5fe",
   "metadata": {},
   "outputs": [],
   "source": [
    "# Step 12: Evaluate Models\n",
    "def evaluate(y_true, y_pred, name):\n",
    "    print(f\"🔍 {name}\")\n",
    "    print(\"MSE:\", mean_squared_error(y_true, y_pred))\n",
    "    print(\"RMSE:\", np.sqrt(mean_squared_error(y_true, y_pred)))\n",
    "    print(\"R2 Score:\", r2_score(y_true, y_pred))\n",
    "    print()"
   ]
  },
  {
   "cell_type": "code",
   "execution_count": 19,
   "id": "8206fd65-d7ee-43b8-9060-f3586c740076",
   "metadata": {},
   "outputs": [
    {
     "name": "stdout",
     "output_type": "stream",
     "text": [
      "🔍 Model 1 (All Features)\n",
      "MSE: 2050561.0651450856\n",
      "RMSE: 1431.9780253708802\n",
      "R2 Score: 0.8463169065204074\n",
      "\n",
      "🔍 Model 2 (Top 5 Correlated Features)\n",
      "MSE: 1990697.7822716476\n",
      "RMSE: 1410.92089865862\n",
      "R2 Score: 0.8508034710291229\n",
      "\n",
      "🔍 Model 3 (Numerical Only)\n",
      "MSE: 2090247.5933875616\n",
      "RMSE: 1445.7688589077998\n",
      "R2 Score: 0.8433425262235019\n",
      "\n"
     ]
    }
   ],
   "source": [
    "evaluate(y_test, y_pred1, \"Model 1 (All Features)\")\n",
    "evaluate(y_test, y_pred2, \"Model 2 (Top 5 Correlated Features)\")\n",
    "evaluate(y_test3, y_pred3, \"Model 3 (Numerical Only)\")"
   ]
  },
  {
   "cell_type": "code",
   "execution_count": 20,
   "id": "504f5003-799d-4d3c-a8ba-6b4e5b224905",
   "metadata": {},
   "outputs": [],
   "source": [
    "ridge = Ridge(alpha=1.0)\n",
    "ridge.fit(X_train, y_train)\n",
    "y_ridge = ridge.predict(X_test)"
   ]
  },
  {
   "cell_type": "code",
   "execution_count": 21,
   "id": "f87d6015-c356-4263-b60b-1f83f3ca1c51",
   "metadata": {},
   "outputs": [],
   "source": [
    "lasso = Lasso(alpha=1.0)\n",
    "lasso.fit(X_train, y_train)\n",
    "y_lasso = lasso.predict(X_test)"
   ]
  },
  {
   "cell_type": "code",
   "execution_count": 22,
   "id": "97c5b26e-069d-4d7a-bc3b-773b798e188a",
   "metadata": {},
   "outputs": [
    {
     "name": "stdout",
     "output_type": "stream",
     "text": [
      "🔍 Ridge Regression\n",
      "MSE: 2052146.74234854\n",
      "RMSE: 1432.5315851137593\n",
      "R2 Score: 0.8461980650081846\n",
      "\n",
      "🔍 Lasso Regression\n",
      "MSE: 2056464.7747626184\n",
      "RMSE: 1434.0379265426066\n",
      "R2 Score: 0.8458744420786262\n",
      "\n"
     ]
    }
   ],
   "source": [
    "evaluate(y_test, y_ridge, \"Ridge Regression\")\n",
    "evaluate(y_test, y_lasso, \"Lasso Regression\")"
   ]
  },
  {
   "cell_type": "code",
   "execution_count": 23,
   "id": "5ad0ced7-44a6-4fda-9bd0-6f1333b0c216",
   "metadata": {},
   "outputs": [
    {
     "data": {
      "image/png": "[encoded data removed]",
      "text/plain": [
       "<Figure size 1000x500 with 1 Axes>"
      ]
     },
     "metadata": {},
     "output_type": "display_data"
    }
   ],
   "source": [
    "# Plotting Coefficients\n",
    "plt.figure(figsize=(10, 5))\n",
    "plt.bar(df.drop(columns=['Price']).columns, lr1.coef_)\n",
    "plt.xticks(rotation=45)\n",
    "plt.title(\"Linear Regression Coefficients\")\n",
    "plt.tight_layout()\n",
    "plt.show()"
   ]
  },
  {
   "cell_type": "code",
   "execution_count": 24,
   "id": "2d100a45-ecdb-40c0-906e-9734ad0d2c47",
   "metadata": {},
   "outputs": [],
   "source": [
    "# ========== INTERVIEW QUESTIONS ========== #\n",
    "# 1. Normalization vs Standardization:\n",
    "#    - Normalization scales values between 0 and 1.\n",
    "#    - Standardization scales data to have mean = 0 and std = 1.\n",
    "#    - Standardization is better for regression when data has outliers or isn't uniformly distributed.\n",
    "\n",
    "# 2. Multicollinearity Techniques:\n",
    "#    - Use VIF (Variance Inflation Factor) to detect it.\n",
    "#    - Remove or combine correlated features.\n",
    "#    - Use regularization methods like Ridge/Lasso.\n"
   ]
  }
 ],
 "metadata": {
  "kernelspec": {
   "display_name": "Python 3 (ipykernel)",
   "language": "python",
   "name": "python3"
  },
  "language_info": {
   "codemirror_mode": {
    "name": "ipython",
    "version": 3
   },
   "file_extension": ".py",
   "mimetype": "text/x-python",
   "name": "python",
   "nbconvert_exporter": "python",
   "pygments_lexer": "ipython3",
   "version": "3.13.5"
  }
 },
 "nbformat": 4,
 "nbformat_minor": 5
}

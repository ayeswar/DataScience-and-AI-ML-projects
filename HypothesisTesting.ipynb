{
 "cells": [
  {
   "cell_type": "markdown",
   "id": "d4730609-d57f-4de6-b61d-7e0e47a19976",
   "metadata": {},
   "source": [
    "# Hypothesis Testing: Bombay Hospitality Ltd.\n",
    "\n",
    "Objective: To determine if the weekly operating costs have increased beyond the model prediction using hypothesis testing.\n",
    "\n",
    "### Given:\n",
    "- Cost Model: \\( W = 1000 + 5X \\)\n",
    "- Sample Mean Cost: $3050\n",
    "- Sample Size (n): 25\n",
    "- Mean units produced (X̄): 600\n",
    "- Std Dev of X: 25\n",
    "- Significance Level (α): 0.05\n"
   ]
  },
  {
   "cell_type": "markdown",
   "id": "f58dc8b0-00db-4b8d-8ac8-906a68819800",
   "metadata": {},
   "source": [
    "## 1. Hypotheses\n",
    "\n",
    "- **Null Hypothesis (H₀)**: The weekly operating cost follows the model \\( W = 1000 + 5X \\)\n",
    "- **Alternative Hypothesis (H₁)**: The weekly operating cost has increased beyond the model\n"
   ]
  },
  {
   "cell_type": "code",
   "execution_count": 1,
   "id": "13df2ca7-a23f-4482-88cd-689db580c7c5",
   "metadata": {},
   "outputs": [],
   "source": [
    "import math\n",
    "from scipy.stats import norm"
   ]
  },
  {
   "cell_type": "code",
   "execution_count": 2,
   "id": "e63b7df5-6108-4867-ad88-9fa82bcd87a6",
   "metadata": {},
   "outputs": [],
   "source": [
    "sample_mean = 3050              \n",
    "mu_X = 600                      \n",
    "std_X = 25                      \n",
    "sample_size = 25              \n",
    "alpha = 0.05     "
   ]
  },
  {
   "cell_type": "code",
   "execution_count": 3,
   "id": "6b3832c6-a972-482e-b3c6-c32d55fe8106",
   "metadata": {},
   "outputs": [],
   "source": [
    "theoretical_mean = 1000 + 5 * mu_X\n",
    "standard_deviation = 5 * std_X"
   ]
  },
  {
   "cell_type": "code",
   "execution_count": 4,
   "id": "0c6da192-761b-4e36-b826-24b9064871f2",
   "metadata": {},
   "outputs": [],
   "source": [
    "standard_error = standard_deviation / math.sqrt(sample_size)"
   ]
  },
  {
   "cell_type": "code",
   "execution_count": 7,
   "id": "4aa0128a-6e4c-40f8-b535-b033fc6dec2e",
   "metadata": {},
   "outputs": [],
   "source": [
    "z_score = (sample_mean - theoretical_mean) / standard_error"
   ]
  },
  {
   "cell_type": "code",
   "execution_count": 5,
   "id": "7eddc597-1af4-4b29-b0b0-fabfcbe11248",
   "metadata": {},
   "outputs": [],
   "source": [
    "critical_value = norm.ppf(1 - alpha)\n"
   ]
  },
  {
   "cell_type": "code",
   "execution_count": null,
   "id": "a7aeb5c3-e477-48e4-81b5-6cfe33172132",
   "metadata": {},
   "outputs": [],
   "source": []
  },
  {
   "cell_type": "code",
   "execution_count": 8,
   "id": "e3f754cf-0479-4149-8afc-ef164f2b17ab",
   "metadata": {},
   "outputs": [
    {
     "name": "stdout",
     "output_type": "stream",
     "text": [
      "Theoretical Mean Weekly Cost: 4000\n",
      "Standard Deviation: 125\n",
      "Standard Error: 25.0\n",
      "Z-Score: -38.0\n",
      "Critical Value (Z) at α=0.05: 1.6448536269514722\n"
     ]
    }
   ],
   "source": [
    "print(\"Theoretical Mean Weekly Cost:\", theoretical_mean)\n",
    "print(\"Standard Deviation:\", standard_deviation)\n",
    "print(\"Standard Error:\", standard_error)\n",
    "print(\"Z-Score:\", z_score)\n",
    "print(\"Critical Value (Z) at α=0.05:\", critical_value)"
   ]
  },
  {
   "cell_type": "code",
   "execution_count": null,
   "id": "041a2cc3-d45a-46b1-9e6f-2be59bfa4e46",
   "metadata": {},
   "outputs": [],
   "source": [
    "## 3. Decision Rule\n",
    "\n",
    "If **Z > 1.645**, reject the null hypothesis.\n",
    "\n",
    "Otherwise, fail to reject it.\n"
   ]
  }
 ],
 "metadata": {
  "kernelspec": {
   "display_name": "Python 3 (ipykernel)",
   "language": "python",
   "name": "python3"
  },
  "language_info": {
   "codemirror_mode": {
    "name": "ipython",
    "version": 3
   },
   "file_extension": ".py",
   "mimetype": "text/x-python",
   "name": "python",
   "nbconvert_exporter": "python",
   "pygments_lexer": "ipython3",
   "version": "3.13.5"
  }
 },
 "nbformat": 4,
 "nbformat_minor": 5
}

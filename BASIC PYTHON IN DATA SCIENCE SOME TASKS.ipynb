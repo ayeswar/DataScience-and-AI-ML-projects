{
 "cells": [
  {
   "cell_type": "markdown",
   "id": "5373d808-4237-4766-a6a3-5814aa6a9e6d",
   "metadata": {},
   "source": [
    "### 1: Prime Numbers\n",
    "Write a Python program that checks whether a given number is prime or not. A prime number is a natural number greater than 1 that has no positive divisors other than 1 and itself.\n"
   ]
  },
  {
   "cell_type": "code",
   "execution_count": 1,
   "id": "b2d8a233-6bda-4a10-abc0-2832c2a887cd",
   "metadata": {},
   "outputs": [],
   "source": [
    "def is_prime(num):\n",
    "    if num <= 1:\n",
    "        return False\n",
    "    for i in range(2, int(num**0.5) + 1):  \n",
    "        if num % i == 0:\n",
    "            return False\n",
    "    return True"
   ]
  },
  {
   "cell_type": "code",
   "execution_count": 2,
   "id": "25f34e57-b649-455f-9dad-f645bbef5c95",
   "metadata": {},
   "outputs": [
    {
     "name": "stdin",
     "output_type": "stream",
     "text": [
      "Enter a number:  8\n"
     ]
    },
    {
     "name": "stdout",
     "output_type": "stream",
     "text": [
      "8 is not a prime number.\n"
     ]
    }
   ],
   "source": [
    "number = int(input(\"Enter a number: \"))\n",
    "\n",
    "if is_prime(number):\n",
    "    print(f\"{number} is a prime number.\")\n",
    "else:\n",
    "    print(f\"{number} is not a prime number.\")"
   ]
  },
  {
   "cell_type": "code",
   "execution_count": null,
   "id": "848929ee-36d0-41b8-8c4e-d319e81989d8",
   "metadata": {},
   "outputs": [],
   "source": []
  },
  {
   "cell_type": "markdown",
   "id": "09be2f04-0df4-4ad7-9227-83f1de552853",
   "metadata": {},
   "source": [
    "## Product of Random Numbers\n",
    "Develop a Python program that generates two random numbers and asks the user to enter the product of these numbers. The program should then check if the user's answer is correct and display an appropriate message.\n"
   ]
  },
  {
   "cell_type": "code",
   "execution_count": 18,
   "id": "6b74a43c-a029-4978-8e9d-13f11afcacec",
   "metadata": {},
   "outputs": [],
   "source": [
    "import random"
   ]
  },
  {
   "cell_type": "code",
   "execution_count": 19,
   "id": "b439b568-f547-4f71-abfc-304d21f727ad",
   "metadata": {},
   "outputs": [],
   "source": [
    "num1 = random.randint(1, 10)\n",
    "num2= random.randint(1, 10)"
   ]
  },
  {
   "cell_type": "code",
   "execution_count": 20,
   "id": "1c4c22a3-8940-445e-b393-fc2407ee152e",
   "metadata": {},
   "outputs": [
    {
     "name": "stdout",
     "output_type": "stream",
     "text": [
      "What is the product of 9 and 6?\n"
     ]
    },
    {
     "name": "stdin",
     "output_type": "stream",
     "text": [
      "Your answer:  62\n"
     ]
    },
    {
     "name": "stdout",
     "output_type": "stream",
     "text": [
      " Incorrect. The correct answer is 54.\n"
     ]
    }
   ],
   "source": [
    "print(f\"What is the product of {num1} and {num2}?\")\n",
    "user_answer = int(input(\"Your answer: \"))\n",
    "correct_answer = num1 * num2\n",
    "if user_answer == correct_answer:\n",
    "    print(\" Correct! Well done.\")\n",
    "else:\n",
    "    print(f\" Incorrect. The correct answer is {correct_answer}.\")\n"
   ]
  },
  {
   "cell_type": "markdown",
   "id": "b09c12a7-ca98-4ad3-995a-c2afeb6b96bc",
   "metadata": {},
   "source": [
    "## Squares of Even/Odd Numbers\n",
    "Create a Python script that prints the squares of all even or odd numbers within the range of 100 to 200. Choose either even or odd numbers and document your choice in the code.\n"
   ]
  },
  {
   "cell_type": "code",
   "execution_count": 21,
   "id": "5375ced1-4f50-4f93-80d0-0e2742049146",
   "metadata": {},
   "outputs": [
    {
     "name": "stdout",
     "output_type": "stream",
     "text": [
      "100^2=10000\n",
      "102^2=10404\n",
      "104^2=10816\n",
      "106^2=11236\n",
      "108^2=11664\n",
      "110^2=12100\n",
      "112^2=12544\n",
      "114^2=12996\n",
      "116^2=13456\n",
      "118^2=13924\n",
      "120^2=14400\n",
      "122^2=14884\n",
      "124^2=15376\n",
      "126^2=15876\n",
      "128^2=16384\n",
      "130^2=16900\n",
      "132^2=17424\n",
      "134^2=17956\n",
      "136^2=18496\n",
      "138^2=19044\n",
      "140^2=19600\n",
      "142^2=20164\n",
      "144^2=20736\n",
      "146^2=21316\n",
      "148^2=21904\n",
      "150^2=22500\n",
      "152^2=23104\n",
      "154^2=23716\n",
      "156^2=24336\n",
      "158^2=24964\n",
      "160^2=25600\n",
      "162^2=26244\n",
      "164^2=26896\n",
      "166^2=27556\n",
      "168^2=28224\n",
      "170^2=28900\n",
      "172^2=29584\n",
      "174^2=30276\n",
      "176^2=30976\n",
      "178^2=31684\n",
      "180^2=32400\n",
      "182^2=33124\n",
      "184^2=33856\n",
      "186^2=34596\n",
      "188^2=35344\n",
      "190^2=36100\n",
      "192^2=36864\n",
      "194^2=37636\n",
      "196^2=38416\n",
      "198^2=39204\n",
      "200^2=40000\n"
     ]
    }
   ],
   "source": [
    "for num in range (100, 201):\n",
    "    if num % 2 == 0:\n",
    "        squares = num ** 2\n",
    "        print(f\"{num}^2={squares}\")"
   ]
  },
  {
   "cell_type": "markdown",
   "id": "92a8033c-a20b-47ce-9aa6-87227e9cecd6",
   "metadata": {},
   "source": [
    "## : Word counter\n",
    "write a program to count the number of words in a given text.\n",
    "example:\n",
    "input_text = \"This is a sample text. This text will be used to demonstrate the word counter.\"\n",
    "Expected output:\n",
    "'This': 2 \n",
    "'is': 1\n",
    "'a': 1\n",
    "'sample': 1\n",
    "'text.': 1\n"
   ]
  },
  {
   "cell_type": "code",
   "execution_count": 22,
   "id": "b04d4296-dd07-498a-be72-a5220c187094",
   "metadata": {},
   "outputs": [
    {
     "name": "stdout",
     "output_type": "stream",
     "text": [
      "'This': 2\n",
      "'is': 1\n",
      "'a': 1\n",
      "'sample': 1\n",
      "'text.': 1\n",
      "'text': 1\n",
      "'will': 1\n",
      "'be': 1\n",
      "'used': 1\n",
      "'to': 1\n",
      "'demonstrate': 1\n",
      "'the': 1\n",
      "'word': 1\n",
      "'counter.': 1\n"
     ]
    }
   ],
   "source": [
    "input_text = \"This is a sample text. This text will be used to demonstrate the word counter.\"\n",
    "words = input_text.split()\n",
    "word_count = {}\n",
    "for word in words:\n",
    "    word_count[word] = word_count.get(word, 0)+1\n",
    "for word, count in word_count.items():\n",
    "    print(f\"'{word}': {count}\")"
   ]
  },
  {
   "cell_type": "markdown",
   "id": "42a708b1-11ec-4ae8-8c7d-b7c2f3efb0a0",
   "metadata": {},
   "source": [
    "## Check for Palindrome\n",
    "Write a Python function called is_palindrome that takes a string as input and returns True if the string is a palindrome, and False otherwise. A palindrome is a word, phrase, number, or other sequence of characters that reads the same forward and backward, ignoring spaces, punctuation, and capitalization.\n",
    "Example:\n",
    "Input: \"racecar\"\n",
    "Expected Output: True\n"
   ]
  },
  {
   "cell_type": "code",
   "execution_count": null,
   "id": "87e4a548-86ec-4f12-a8d6-f6c164c5b606",
   "metadata": {},
   "outputs": [],
   "source": []
  }
 ],
 "metadata": {
  "kernelspec": {
   "display_name": "Python [conda env:base] *",
   "language": "python",
   "name": "conda-base-py"
  },
  "language_info": {
   "codemirror_mode": {
    "name": "ipython",
    "version": 3
   },
   "file_extension": ".py",
   "mimetype": "text/x-python",
   "name": "python",
   "nbconvert_exporter": "python",
   "pygments_lexer": "ipython3",
   "version": "3.12.7"
  }
 },
 "nbformat": 4,
 "nbformat_minor": 5
}

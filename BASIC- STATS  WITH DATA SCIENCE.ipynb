{
 "cells": [
  {
   "cell_type": "raw",
   "id": "816ee197-b0a8-4076-b0e7-c90b6780d46c",
   "metadata": {},
   "source": [
    "### Background\n",
    "In quality control processes, especially when dealing with high-value items, destructive sampling is a necessary but costly method to ensure product quality. The test to determine whether an item meets the quality standards destroys the item, leading to the requirement of small sample sizes due to cost constraints.\n",
    "Scenario\n",
    "A manufacturer of print-heads for personal computers is interested in estimating the mean durability of their print-heads in terms of the number of characters printed before failure. To assess this, the manufacturer conducts a study on a small sample of print-heads due to the destructive nature of the testing process.\n",
    "Data\n",
    "A total of 15 print-heads were randomly selected and tested until failure. The durability of each print-head (in millions of characters) was recorded as follows:\n",
    "1.13, 1.55, 1.43, 0.92, 1.25, 1.36, 1.32, 0.85, 1.07, 1.48, 1.20, 1.33, 1.18, 1.22, 1.29\n",
    "Assignment Tasks\n",
    "a. Build 99% Confidence Interval Using Sample Standard Deviation\n",
    "Assuming the sample is representative of the population, construct a 99% confidence interval for the mean number of characters printed before the print-head fails using the sample standard deviation. Explain the steps you take and the rationale behind using the t-distribution for this task.\n",
    "b. Build 99% Confidence Interval Using Known Population Standard Deviation\n",
    "If it were known that the population standard deviation is 0.2 million characters, construct a 99% confidence interval for the mean number of characters printed before failure.\n"
   ]
  },
  {
   "cell_type": "code",
   "execution_count": 2,
   "id": "4d570099-bf7a-4bb3-bab3-5cb54d6df624",
   "metadata": {},
   "outputs": [],
   "source": [
    "import numpy as np\n",
    "import scipy.stats as stats\n",
    "import pandas as pd"
   ]
  },
  {
   "cell_type": "code",
   "execution_count": null,
   "id": "101b6b9d-236e-4f85-89cd-9c2f42298616",
   "metadata": {},
   "outputs": [],
   "source": [
    "## Give data"
   ]
  },
  {
   "cell_type": "code",
   "execution_count": 3,
   "id": "6767e500-cd8f-4de1-bcfe-591352527570",
   "metadata": {},
   "outputs": [],
   "source": [
    "# Data\n",
    "durability = [1.13, 1.55, 1.43, 0.92, 1.25, 1.36, 1.32, 0.85, 1.07, 1.48, 1.20, 1.33, 1.18, 1.22, 1.29]"
   ]
  },
  {
   "cell_type": "code",
   "execution_count": 4,
   "id": "de2ebae0-9753-4a69-bae8-706f585c8de8",
   "metadata": {},
   "outputs": [],
   "source": [
    "n = len(durability)\n",
    "mean = np.mean(durability)\n",
    "std_dev = np.std(durability, ddof=1)  \n",
    "confidence = 0.99\n",
    "alpha = 1 - confidence\n",
    "df = n - 1"
   ]
  },
  {
   "cell_type": "code",
   "execution_count": 5,
   "id": "19b71713-637d-46d4-9498-8977822b4db3",
   "metadata": {},
   "outputs": [],
   "source": [
    "t_critical = stats.t.ppf(1 - alpha/2, df)"
   ]
  },
  {
   "cell_type": "code",
   "execution_count": 6,
   "id": "86bdf292-9e19-432d-a9ba-95f95b54dc99",
   "metadata": {},
   "outputs": [],
   "source": [
    "margin_error = t_critical * (std_dev / np.sqrt(n))"
   ]
  },
  {
   "cell_type": "code",
   "execution_count": 7,
   "id": "92c8dcad-aca9-48fe-a50f-fc7c47aea8da",
   "metadata": {},
   "outputs": [
    {
     "data": {
      "text/plain": [
       "(1.0901973384384906, 1.3871359948948425)"
      ]
     },
     "execution_count": 7,
     "metadata": {},
     "output_type": "execute_result"
    }
   ],
   "source": [
    "ci_lower = mean - margin_error\n",
    "ci_upper = mean + margin_error\n",
    "(ci_lower, ci_upper)"
   ]
  },
  {
   "cell_type": "markdown",
   "id": "acc068c2-d92e-4530-862c-b40c08a1b50b",
   "metadata": {},
   "source": [
    "### b. 99% Confidence Interval (Using Known Population Standard Deviation)"
   ]
  },
  {
   "cell_type": "code",
   "execution_count": 8,
   "id": "d706a24a-c354-4b29-9aa4-af0a7f48717f",
   "metadata": {},
   "outputs": [],
   "source": [
    "pop_std_dev = 0.2\n",
    "z_critical = stats.norm.ppf(1 - alpha/2)"
   ]
  },
  {
   "cell_type": "code",
   "execution_count": 9,
   "id": "878d2a1b-91bb-422c-9c5d-b07243c3d798",
   "metadata": {},
   "outputs": [],
   "source": [
    "margin_error_z = z_critical * (pop_std_dev / np.sqrt(n))"
   ]
  },
  {
   "cell_type": "code",
   "execution_count": 10,
   "id": "cc84f6a7-6691-4105-89ae-d9798af551a6",
   "metadata": {},
   "outputs": [
    {
     "data": {
      "text/plain": [
       "(1.1056514133957607, 1.3716819199375725)"
      ]
     },
     "execution_count": 10,
     "metadata": {},
     "output_type": "execute_result"
    }
   ],
   "source": [
    "ci_lower_z = mean - margin_error_z\n",
    "ci_upper_z = mean + margin_error_z\n",
    "(ci_lower_z, ci_upper_z)"
   ]
  },
  {
   "cell_type": "markdown",
   "id": "2d66996e-40dc-48c6-a41d-e0216893d561",
   "metadata": {},
   "source": [
    "### Method\tMean (x̄)\tStd. Dev. Used\tCritical Value\tCI (Lower, Upper)\n",
    "a. Sample Std Dev (t-dist)\t~1.24\tSample\tt(0.005, 14)\n",
    "b. Population Std Dev (z-dist)\t~1.24\t0.2 (Given)\tz(0.005) = 2.576\t"
   ]
  },
  {
   "cell_type": "code",
   "execution_count": null,
   "id": "569bbc09-e8bd-436c-9cf6-4bbdd2b095e9",
   "metadata": {},
   "outputs": [],
   "source": []
  }
 ],
 "metadata": {
  "kernelspec": {
   "display_name": "Python [conda env:base] *",
   "language": "python",
   "name": "conda-base-py"
  },
  "language_info": {
   "codemirror_mode": {
    "name": "ipython",
    "version": 3
   },
   "file_extension": ".py",
   "mimetype": "text/x-python",
   "name": "python",
   "nbconvert_exporter": "python",
   "pygments_lexer": "ipython3",
   "version": "3.12.7"
  }
 },
 "nbformat": 4,
 "nbformat_minor": 5
}
